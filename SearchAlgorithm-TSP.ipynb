{
 "cells": [
  {
   "cell_type": "code",
   "execution_count": 1,
   "metadata": {
    "colab": {},
    "colab_type": "code",
    "id": "MeLnq85w7vA0"
   },
   "outputs": [],
   "source": [
    "import random\n",
    "import time"
   ]
  },
  {
   "cell_type": "markdown",
   "metadata": {
    "colab_type": "text",
    "id": "iirpaWgrEoYG"
   },
   "source": [
    "# Problem Initialization"
   ]
  },
  {
   "cell_type": "code",
   "execution_count": 2,
   "metadata": {
    "colab": {},
    "colab_type": "code",
    "id": "ZFt37OKhsKqU"
   },
   "outputs": [],
   "source": [
    "max_city_number = 10\n",
    "Gs = []\n",
    "for NN in range(2,max_city_number+1):\n",
    "    Gs.append([[random.randint(1,100) for e in range(NN+1)] for e in range(NN+1)])"
   ]
  },
  {
   "cell_type": "markdown",
   "metadata": {},
   "source": [
    "# Effective Branch Calucation（Newton's Method）"
   ]
  },
  {
   "cell_type": "code",
   "execution_count": 3,
   "metadata": {
    "colab": {},
    "colab_type": "code",
    "id": "1041oTwhWDMB"
   },
   "outputs": [],
   "source": [
    "def f(N,d,x):\n",
    "    return (x**(d+1) - (N+1)*x + N)**2\n",
    "\n",
    "def df(N,d,x):\n",
    "    return 2*f(N,d,x)*((d+1)*x**d-(N+1))\n",
    "\n",
    "def ddf(N,d,x):\n",
    "    return 2*df(N,d,x)*((d+1)*x**d-(N+1))+2*f(N,d,x)*((d+1)*d*x**(d-1))\n",
    "\n",
    "def solve(N,d):\n",
    "    x = 1.9\n",
    "    delta = 1.0\n",
    "    count = 0\n",
    "    while abs(delta)>0.000001 and count<100000:\n",
    "        delta = df(N,d,x)/(ddf(N,d,x)+0.00001)\n",
    "        x = x - delta\n",
    "        count = count + 1\n",
    "    return x"
   ]
  },
  {
   "cell_type": "markdown",
   "metadata": {},
   "source": [
    "# Tree Structure"
   ]
  },
  {
   "cell_type": "code",
   "execution_count": 4,
   "metadata": {
    "colab": {},
    "colab_type": "code",
    "id": "1oPuvSTn7kRy"
   },
   "outputs": [],
   "source": [
    "class node(object):\n",
    "    def __init__(self,n,number=None,graph=None):\n",
    "        self.pre = None\n",
    "        self.city = number\n",
    "        self.label = []\n",
    "        self.child = []\n",
    "        self.graph = graph\n",
    "        self.n = n\n",
    "        self.min_bound = [min(self.graph[i]) for i in range(self.n)]\n",
    "        self.max_bound = [max([j for j in self.graph[i] if j!=float('inf')]) for i in range(self.n)]\n",
    "\n",
    "    def add_child(self,number):\n",
    "        tmp_node = node(n=self.n,number=number,graph=self.graph)\n",
    "        tmp_node.pre = self\n",
    "        tmp_node.label=[i for i in self.label]\n",
    "        tmp_node.label.append(number)\n",
    "        self.child.append(tmp_node)\n",
    "\n",
    "    def get_routecost(self,label):\n",
    "        g = 0\n",
    "        if len(label)==(self.n):\n",
    "            label.append(1)\n",
    "        for i in range(0,len(label)-1):\n",
    "            g = g+self.graph[label[i]-1][label[i+1]-1]\n",
    "        return g\n",
    "\n",
    "    def get_hcost(self,label):\n",
    "        h = 0\n",
    "        remain = city.difference(set(label))\n",
    "        remain = list(remain)\n",
    "        if len(remain)!=0:\n",
    "            remain.append(label[-1])\n",
    "        for i in remain:\n",
    "            h = h+self.min_bound[i-1]\n",
    "        return h\n",
    "\n",
    "    def get_hmaxcost(self,label):\n",
    "        h = 0\n",
    "        remain = city.difference(set(label))\n",
    "        remain = list(remain)\n",
    "        if len(remain)!=0:\n",
    "            remain.append(label[-1])\n",
    "        for i in remain:\n",
    "            h = h+self.max_bound[i-1]\n",
    "        return h\n",
    "\n",
    "  \n",
    "    def get_estimatecost(self,label):\n",
    "        remain = city.difference(set(label))\n",
    "        remain = list(remain)\n",
    "        remain.append(label[-1])\n",
    "        if len(remain)==2:\n",
    "            label.append(remain[0])\n",
    "            label.append(1)\n",
    "        f = self.get_routecost(label)\n",
    "        f = f + self.get_hmaxcost(label)\n",
    "        return f\n",
    "\n",
    "    def get_fcost(self,label):\n",
    "        remain = city.difference(set(label))\n",
    "        remain = list(remain)\n",
    "        remain.append(label[-1])\n",
    "        if len(remain)==2:\n",
    "            label.append(remain[0])\n",
    "            label.append(1)\n",
    "        f = self.get_routecost(label)\n",
    "        f = f + self.get_hcost(label)\n",
    "        return f"
   ]
  },
  {
   "cell_type": "markdown",
   "metadata": {
    "colab_type": "text",
    "id": "QQrYUyl8j4a0"
   },
   "source": [
    "# A* Search Algorithm\n"
   ]
  },
  {
   "cell_type": "code",
   "execution_count": 5,
   "metadata": {
    "colab": {
     "base_uri": "https://localhost:8080/",
     "height": 1000
    },
    "colab_type": "code",
    "id": "1xL23qNYqqwv",
    "outputId": "a439a0f6-dfd1-4893-e4f2-7efd0e404019"
   },
   "outputs": [
    {
     "name": "stdout",
     "output_type": "stream",
     "text": [
      "----------i=0------------\n",
      "--- 0.06031990051269531 msec ---\n",
      "RESULT: [1, 3, 2, 1] 62 62\n",
      "cities=2, d=1 ,N= 2 ,  b*=1.500000\n",
      "ROUTEs: 1\n",
      "----------i=1------------\n",
      "--- 0.18095970153808594 msec ---\n",
      "RESULT: [1, 4, 2, 3, 1] 133 133\n",
      "cities=3, d=2 ,N= 3 ,  b*=1.154701\n",
      "ROUTEs: 1\n",
      "----------i=2------------\n",
      "--- 0.4248619079589844 msec ---\n",
      "RESULT: [1, 3, 4, 2, 5, 1] 83 83\n",
      "cities=4, d=3 ,N= 4 ,  b*=1.077217\n",
      "ROUTEs: 1\n",
      "----------i=3------------\n",
      "--- 1.6720294952392578 msec ---\n",
      "RESULT: [1, 6, 4, 5, 3, 2, 1] 147 147\n",
      "cities=5, d=4 ,N= 11 ,  b*=1.244666\n",
      "ROUTEs: 4\n",
      "----------i=4------------\n",
      "--- 4.806995391845703 msec ---\n",
      "RESULT: [1, 6, 7, 3, 2, 4, 5, 1] 182 182\n",
      "cities=6, d=5 ,N= 22 ,  b*=1.308324\n",
      "ROUTEs: 6\n",
      "----------i=5------------\n",
      "--- 22.773027420043945 msec ---\n",
      "RESULT: [1, 7, 2, 3, 4, 6, 8, 5, 1] 110 110\n",
      "cities=7, d=6 ,N= 42 ,  b*=1.353303\n",
      "ROUTEs: 7\n",
      "----------i=6------------\n",
      "--- 1367.3608303070068 msec ---\n",
      "RESULT: [1, 8, 3, 2, 9, 7, 5, 6, 4, 1] 205 205\n",
      "cities=8, d=7 ,N= 419 ,  b*=1.760910\n",
      "ROUTEs: 110\n",
      "----------i=7------------\n",
      "--- 6064.4049644470215 msec ---\n",
      "RESULT: [1, 3, 6, 2, 4, 5, 10, 9, 7, 8, 1] 134 134\n",
      "cities=9, d=8 ,N= 875 ,  b*=1.772281\n",
      "ROUTEs: 194\n",
      "----------i=8------------\n",
      "--- 42760.807037353516 msec ---\n",
      "RESULT: [1, 5, 2, 3, 10, 7, 8, 4, 6, 11, 9, 1] 212 212\n",
      "cities=10, d=9 ,N= 1923 ,  b*=1.793910\n",
      "ROUTEs: 111\n"
     ]
    }
   ],
   "source": [
    "resultsA = []\n",
    "realans = []\n",
    "\n",
    "def showOPEN(openlist):\n",
    "    print(\"showOPEN\")\n",
    "    for i in openlist:\n",
    "        print(i.label,i.get_routecost(i.label),i.get_fcost(i.label),i.get_estimatecost(i.label))\n",
    "    print(\"XXXXXXXX\")\n",
    "\n",
    "for nidx in range(len(Gs)):\n",
    "    print(\"----------i=%d------------\"%nidx)\n",
    "    graph = Gs[nidx]\n",
    "    NN = len(graph)\n",
    "    for idx in range(NN):\n",
    "        graph[idx][idx] = float('inf')\n",
    "    city = range(1,len(graph)+1)\n",
    "    city = set(city)\n",
    "    min_bound = [min(graph[i]) for i in range(len(graph))]\n",
    "\n",
    "    tree = node(n=len(graph),number=1,graph=graph)\n",
    "    tree.label.append(1)\n",
    "    tree.cost=0\n",
    "\n",
    "    start_time = time.time()\n",
    "    open=[]\n",
    "    open.append(tree)\n",
    "    count = 0\n",
    "    fcnt = 0\n",
    "    ans = 0\n",
    "    while len(open)>0:\n",
    "        N = open[0]\n",
    "        if len(N.label)==(len(city)-2):\n",
    "            fcnt = fcnt+1\n",
    "        del(open[0])\n",
    "        count = count+1\n",
    "        child_list = set(city).difference(set(N.label))\n",
    "        if len(child_list)==0:\n",
    "            ans = 1\n",
    "            break\n",
    "        for c in child_list:\n",
    "            N.add_child(number=c)\n",
    "        tmp = N.child\n",
    "        for i in tmp:\n",
    "            open.append(i)\n",
    "        open = sorted(open,key= lambda x:x.get_fcost(x.label))\n",
    "        #showOPEN(open)\n",
    "    t = (time.time() - start_time)*1000\n",
    "    print(\"--- %s msec ---\" % (t))\n",
    "    ans_route = N.get_routecost(N.label)\n",
    "\n",
    "    if ans==1:\n",
    "        print(\"RESULT:\",N.label,ans_route,N.get_estimatecost(N.label))\n",
    "        b = solve(count,NN-2)\n",
    "        print(\"cities=%d, d=%d ,N= %d ,  b*=%f\"%(len(graph)-1,NN-2,count,b))\n",
    "        print(\"ROUTEs: %d\"%(fcnt))\n",
    "        resultsA.append((NN-2,count,b))\n",
    "        realans.append(ans_route)\n",
    "    else:\n",
    "        print(\"FAILED\")"
   ]
  },
  {
   "cell_type": "code",
   "execution_count": 6,
   "metadata": {
    "colab": {
     "base_uri": "https://localhost:8080/",
     "height": 170
    },
    "colab_type": "code",
    "id": "1OR2Y-q6cFTz",
    "outputId": "2e12702d-82dd-4f05-b7c3-05303d690f07",
    "scrolled": true
   },
   "outputs": [
    {
     "data": {
      "text/plain": [
       "[(1, 2, 1.500000000000018),\n",
       " (2, 3, 1.1547005383839883),\n",
       " (3, 4, 1.0772173450173192),\n",
       " (4, 11, 1.244665954576957),\n",
       " (5, 22, 1.308324026895693),\n",
       " (6, 42, 1.3533030769655938),\n",
       " (7, 419, 1.760909527930808),\n",
       " (8, 875, 1.7722814815486114),\n",
       " (9, 1923, 1.7939096375992507)]"
      ]
     },
     "execution_count": 6,
     "metadata": {},
     "output_type": "execute_result"
    }
   ],
   "source": [
    "resultsA"
   ]
  },
  {
   "cell_type": "code",
   "execution_count": 7,
   "metadata": {
    "colab": {
     "base_uri": "https://localhost:8080/",
     "height": 34
    },
    "colab_type": "code",
    "id": "aLGCPq45BolT",
    "outputId": "38632725-b243-42b4-8a9b-4179e517f448",
    "scrolled": true
   },
   "outputs": [
    {
     "data": {
      "text/plain": [
       "[62, 133, 83, 147, 182, 110, 205, 134, 212]"
      ]
     },
     "execution_count": 7,
     "metadata": {},
     "output_type": "execute_result"
    }
   ],
   "source": [
    "realans"
   ]
  },
  {
   "cell_type": "markdown",
   "metadata": {
    "colab_type": "text",
    "id": "op_xb3Ro9igE"
   },
   "source": [
    "# Gradient Ascent (Descent) Method"
   ]
  },
  {
   "cell_type": "code",
   "execution_count": 8,
   "metadata": {
    "colab": {
     "base_uri": "https://localhost:8080/",
     "height": 782
    },
    "colab_type": "code",
    "id": "jWr0W2NC9tjs",
    "outputId": "3d97788d-437f-4a5c-d357-1cc245b71ef4"
   },
   "outputs": [
    {
     "name": "stdout",
     "output_type": "stream",
     "text": [
      "----------i=0------------\n",
      "RESULT: [1, 3, 2, 1] 62 62 error: 0.0  %\n",
      "cities=2, d=1 ,N= 2 ,  b*=1.500000\n",
      "--- 0.28395652770996094 msec ---\n",
      "0.0\n",
      "----------i=1------------\n",
      "RESULT: [1, 4, 2, 3, 1] 133 133 error: 0.0  %\n",
      "cities=3, d=2 ,N= 3 ,  b*=1.154701\n",
      "--- 0.20599365234375 msec ---\n",
      "0.0\n",
      "----------i=2------------\n",
      "RESULT: [1, 3, 4, 2, 5, 1] 83 83 error: 0.0  %\n",
      "cities=4, d=3 ,N= 4 ,  b*=1.077217\n",
      "--- 0.4012584686279297 msec ---\n",
      "0.0\n",
      "----------i=3------------\n",
      "RESULT: [1, 6, 3, 5, 2, 4, 1] 282 147 error: 91.83673469387756  %\n",
      "cities=5, d=4 ,N= 5 ,  b*=1.046635\n",
      "--- 0.7419586181640625 msec ---\n",
      "22.95918367346939\n",
      "----------i=4------------\n",
      "RESULT: [1, 5, 2, 4, 3, 7, 6, 1] 267 182 error: 46.7032967032967  %\n",
      "cities=6, d=5 ,N= 6 ,  b*=1.031310\n",
      "--- 1.1742115020751953 msec ---\n",
      "27.70800627943485\n",
      "----------i=5------------\n",
      "RESULT: [1, 7, 2, 3, 4, 6, 8, 5, 1] 110 110 error: 0.0  %\n",
      "cities=7, d=6 ,N= 7 ,  b*=1.022505\n",
      "--- 1.3310909271240234 msec ---\n",
      "23.090005232862378\n",
      "----------i=6------------\n",
      "RESULT: [1, 4, 7, 5, 3, 2, 9, 6, 8, 1] 281 205 error: 37.073170731707314  %\n",
      "cities=8, d=7 ,N= 8 ,  b*=1.016969\n",
      "--- 2.1669864654541016 msec ---\n",
      "25.08760030412594\n",
      "----------i=7------------\n",
      "RESULT: [1, 7, 8, 6, 2, 4, 3, 10, 9, 5, 1] 185 134 error: 38.059701492537314  %\n",
      "cities=9, d=8 ,N= 9 ,  b*=1.013257\n",
      "--- 1.9321441650390625 msec ---\n",
      "26.70911295267736\n",
      "----------i=8------------\n",
      "RESULT: [1, 3, 8, 9, 11, 2, 5, 10, 7, 6, 4, 1] 404 212 error: 90.56603773584906  %\n",
      "cities=10, d=9 ,N= 10 ,  b*=1.010646\n",
      "--- 3.343820571899414 msec ---\n",
      "33.80432681747422\n"
     ]
    }
   ],
   "source": [
    "resultsGR = []\n",
    "errors = []\n",
    "\n",
    "for nidx in range(len(Gs)):\n",
    "    print(\"----------i=%d------------\"%nidx)\n",
    "    graph = Gs[nidx]\n",
    "    NN = len(graph)\n",
    "    for idx in range(NN):\n",
    "        graph[idx][idx] = float('inf')\n",
    "\n",
    "    city = range(1,len(graph)+1)\n",
    "    city = set(city)\n",
    "\n",
    "    min_bound = [min(graph[i]) for i in range(len(graph))]\n",
    "\n",
    "    tree = node(n=len(graph),number=1,graph=graph)\n",
    "    tree.label.append(1)\n",
    "    tree.cost=0\n",
    "\n",
    "    start_time = time.time()\n",
    "\n",
    "    count = 0\n",
    "    N = tree\n",
    "    n_city = len(city)\n",
    "    while len(N.label) <= n_city+1:\n",
    "        count = count+1\n",
    "        if len(N.label)==(n_city+1):\n",
    "            break\n",
    "        child_list = set(city).difference(set(N.label))\n",
    "        if len(child_list)==0:\n",
    "            print(\"Fail\")\n",
    "            break\n",
    "        for c in child_list:\n",
    "            N.add_child(number=c)\n",
    "        tmp = N.child\n",
    "\n",
    "        open = []\n",
    "        for i in tmp:\n",
    "            open.append(i)\n",
    "        open = sorted(open,key= lambda x:x.get_estimatecost(x.label))\n",
    "        CN = open[0]\n",
    "\n",
    "        if (CN.get_estimatecost(CN.label)<N.get_estimatecost(N.label)):\n",
    "            N = CN\n",
    "        else:\n",
    "            print(\"CH fail break\")\n",
    "            break\n",
    "    t = (time.time() - start_time)*1000\n",
    "    answer=N.get_estimatecost(N.label)\n",
    "    error = ((answer-realans[nidx])/realans[nidx])*100\n",
    "    errors.append(error)\n",
    "    print(\"RESULT:\",N.label,answer,realans[nidx],\"error:\",error,\" %\")\n",
    "    print(\"cities=%d, d=%d ,N= %d ,  b*=%f\"%(len(graph)-1,NN-2,count,solve(count,NN-2)))\n",
    "    resultsGR.append((NN-2,count,solve(count,NN-2)))\n",
    "    print(\"--- %s msec ---\" % (t))\n",
    "    print(sum(errors)/len(errors))"
   ]
  },
  {
   "cell_type": "code",
   "execution_count": 9,
   "metadata": {
    "colab": {
     "base_uri": "https://localhost:8080/",
     "height": 170
    },
    "colab_type": "code",
    "id": "xZq98EQwqgVb",
    "outputId": "c8ed509e-4ed7-45bf-a723-fbc0a347fbb5"
   },
   "outputs": [
    {
     "data": {
      "text/plain": [
       "[(1, 2, 1.500000000000018),\n",
       " (2, 3, 1.1547005383839883),\n",
       " (3, 4, 1.0772173450173192),\n",
       " (4, 5, 1.046635139392451),\n",
       " (5, 6, 1.0313103067017242),\n",
       " (6, 7, 1.022504727328176),\n",
       " (7, 8, 1.0169685052002313),\n",
       " (8, 9, 1.0132571719231895),\n",
       " (9, 10, 1.0106462929716866)]"
      ]
     },
     "execution_count": 9,
     "metadata": {},
     "output_type": "execute_result"
    }
   ],
   "source": [
    "resultsGR"
   ]
  },
  {
   "cell_type": "markdown",
   "metadata": {
    "colab_type": "text",
    "id": "p5tyKQZ-jzG9"
   },
   "source": [
    "# Cost Search Algorithm\n"
   ]
  },
  {
   "cell_type": "code",
   "execution_count": 10,
   "metadata": {
    "colab": {
     "base_uri": "https://localhost:8080/",
     "height": 902
    },
    "colab_type": "code",
    "id": "NM5aOa-icUip",
    "outputId": "3b818efe-17f0-419a-bf8c-1615762ba150"
   },
   "outputs": [
    {
     "name": "stdout",
     "output_type": "stream",
     "text": [
      "----------i=0------------\n",
      "--- 0.16617774963378906 msec ---\n",
      "RESULT: [1, 3, 2, 1] 62 62\n",
      "cities=2, d=1 ,N= 4 ,  b*=2.500000\n",
      "ROUTEs: 1\n",
      "----------i=1------------\n",
      "--- 0.5648136138916016 msec ---\n",
      "RESULT: [1, 4, 2, 3, 1] 133 133\n",
      "cities=3, d=2 ,N= 11 ,  b*=2.000000\n",
      "ROUTEs: 3\n",
      "----------i=2------------\n",
      "--- 0.9660720825195312 msec ---\n",
      "RESULT: [1, 3, 4, 2, 5, 1] 83 83\n",
      "cities=4, d=3 ,N= 10 ,  b*=1.401020\n",
      "ROUTEs: 4\n",
      "----------i=3------------\n",
      "--- 9.300947189331055 msec ---\n",
      "RESULT: [1, 6, 4, 5, 3, 2, 1] 147 147\n",
      "cities=5, d=4 ,N= 43 ,  b*=1.722347\n",
      "ROUTEs: 14\n",
      "----------i=4------------\n",
      "--- 107.22494125366211 msec ---\n",
      "RESULT: [1, 6, 7, 3, 2, 4, 5, 1] 182 182\n",
      "cities=6, d=5 ,N= 215 ,  b*=2.047673\n",
      "ROUTEs: 69\n",
      "----------i=5------------\n",
      "--- 172.0409393310547 msec ---\n",
      "RESULT: [1, 7, 2, 3, 4, 6, 8, 5, 1] 110 110\n",
      "cities=7, d=6 ,N= 242 ,  b*=1.806140\n",
      "ROUTEs: 49\n"
     ]
    }
   ],
   "source": [
    "resultsC = []\n",
    "\n",
    "for nidx in range(len(Gs)-3):\n",
    "    print(\"----------i=%d------------\"%nidx)\n",
    "    graph = Gs[nidx]\n",
    "    NN = len(graph)\n",
    "    for idx in range(NN):\n",
    "        graph[idx][idx] = float('inf')\n",
    "    city = range(1,len(graph)+1)\n",
    "    city = set(city)\n",
    "    min_bound = [min(graph[i]) for i in range(len(graph))]\n",
    "\n",
    "    tree = node(n=len(graph),number=1,graph=graph)\n",
    "    tree.label.append(1)\n",
    "    tree.cost=0\n",
    "\n",
    "    start_time = time.time()\n",
    "    open=[]\n",
    "    open.append(tree)\n",
    "  \n",
    "    count = 0\n",
    "    fcnt = 0\n",
    "    ans = 0\n",
    "    while len(open)>0:\n",
    "        N = open[0]\n",
    "        if len(N.label)==(len(city)-2):\n",
    "            fcnt = fcnt+1\n",
    "        del(open[0])\n",
    "        count = count+1\n",
    "        child_list = set(city).difference(set(N.label))\n",
    "        if len(child_list)==0:\n",
    "            ans = 1\n",
    "            break\n",
    "        for c in child_list:\n",
    "            N.add_child(number=c)\n",
    "        tmp = N.child\n",
    "        for i in tmp:\n",
    "            open.append(i)\n",
    "        open = sorted(open,key= lambda x:x.get_routecost(x.label))\n",
    "    #showOPEN(open)\n",
    "    t = (time.time() - start_time)*1000\n",
    "    print(\"--- %s msec ---\" % (t))\n",
    "    if ans==1:\n",
    "        print(\"RESULT:\",N.label,N.get_routecost(N.label),realans[nidx])\n",
    "        b = solve(count,NN-2)\n",
    "        print(\"cities=%d, d=%d ,N= %d ,  b*=%f\"%(len(graph)-1,NN-2,count,b))\n",
    "        print(\"ROUTEs: %d\"%(fcnt))\n",
    "        resultsC.append((NN-2,count,b))\n",
    "    else:\n",
    "        print(\"FAILED\")"
   ]
  },
  {
   "cell_type": "code",
   "execution_count": 11,
   "metadata": {
    "colab": {},
    "colab_type": "code",
    "id": "iqsDWf8BeR79"
   },
   "outputs": [
    {
     "data": {
      "text/plain": [
       "[(1, 4, 2.4999999999995124),\n",
       " (2, 11, 2.0),\n",
       " (3, 10, 1.4010196653276958),\n",
       " (4, 43, 1.722347059926734),\n",
       " (5, 215, 2.0476725110792193),\n",
       " (6, 242, 1.8061398392728834)]"
      ]
     },
     "execution_count": 11,
     "metadata": {},
     "output_type": "execute_result"
    }
   ],
   "source": [
    "resultsC"
   ]
  },
  {
   "cell_type": "markdown",
   "metadata": {
    "colab_type": "text",
    "id": "M1-U7855NIHZ"
   },
   "source": [
    "# Depth First Algorithm\n"
   ]
  },
  {
   "cell_type": "code",
   "execution_count": 12,
   "metadata": {
    "colab": {},
    "colab_type": "code",
    "id": "QijL0jEnqnjk"
   },
   "outputs": [
    {
     "name": "stdout",
     "output_type": "stream",
     "text": [
      "----------i=0------------\n",
      "RESULT: [1, 3, 2, 1] 62 62\n",
      "cities=2, d=1 ,N= 5 ,  b*=3.000000\n",
      "ROUTEs:2\n",
      "--- 0.2689361572265625 msec ---\n",
      "----------i=1------------\n",
      "RESULT: [1, 4, 2, 3, 1] 133 133\n",
      "cities=3, d=2 ,N= 16 ,  b*=2.380476\n",
      "ROUTEs:6\n",
      "--- 0.30493736267089844 msec ---\n",
      "----------i=2------------\n",
      "RESULT: [1, 3, 4, 2, 5, 1] 83 83\n",
      "cities=4, d=3 ,N= 65 ,  b*=2.545822\n",
      "ROUTEs:24\n",
      "--- 2.930164337158203 msec ---\n",
      "----------i=3------------\n",
      "RESULT: [1, 6, 4, 5, 3, 2, 1] 147 147\n",
      "cities=5, d=4 ,N= 326 ,  b*=2.843770\n",
      "ROUTEs:120\n",
      "--- 62.73174285888672 msec ---\n",
      "----------i=4------------\n",
      "RESULT: [1, 6, 7, 3, 2, 4, 5, 1] 182 182\n",
      "cities=6, d=5 ,N= 1957 ,  b*=3.182235\n",
      "ROUTEs:720\n",
      "--- 1794.2638397216797 msec ---\n",
      "----------i=5------------\n",
      "RESULT: [1, 7, 2, 3, 4, 6, 8, 5, 1] 110 110\n",
      "cities=7, d=6 ,N= 13700 ,  b*=3.536788\n",
      "ROUTEs:5040\n",
      "--- 94124.37701225281 msec ---\n"
     ]
    }
   ],
   "source": [
    "resultsV = []\n",
    "\n",
    "for nidx in range(len(Gs)-3):\n",
    "    print(\"----------i=%d------------\"%nidx)\n",
    "    graph = Gs[nidx]\n",
    "    NN = len(graph)\n",
    "    for idx in range(NN):\n",
    "        graph[idx][idx] = float('inf')\n",
    "    city = range(1,len(graph)+1)\n",
    "    city = set(city)\n",
    "\n",
    "    tree = node(n=len(graph),number=1,graph=graph)\n",
    "    tree.label.append(1)\n",
    "    tree.cost=0\n",
    "\n",
    "    start_time = time.time()\n",
    "    open=[]\n",
    "    paths = []\n",
    "    count = 0\n",
    "    fcnt = 0\n",
    "    open.append(tree)\n",
    "    while len(open)>0:\n",
    "        if len(open)==0:\n",
    "            break\n",
    "        N = open.pop()\n",
    "\n",
    "        if len(N.label)==(len(graph)):\n",
    "            N.label.append(1)\n",
    "            paths.append(N)\n",
    "            fcnt = fcnt+1\n",
    "        paths=sorted(paths,key= lambda x:x.get_routecost(x.label))\n",
    "\n",
    "        count = count+1\n",
    "        child_list = set(city).difference(set(N.label))\n",
    "        if len(child_list)==0:\n",
    "            continue\n",
    "        for c in child_list:\n",
    "            N.add_child(number=c)\n",
    "        tmp = N.child\n",
    "\n",
    "        for i in tmp:\n",
    "            open.append(i)\n",
    "    t = (time.time() - start_time)*1000\n",
    "    ans_route = paths[0].get_routecost(paths[0].label)\n",
    "    print(\"RESULT:\",paths[0].label,ans_route,realans[nidx])\n",
    "    print(\"cities=%d, d=%d ,N= %d ,  b*=%f\"%(len(graph)-1,NN-2,count,solve(count,NN-2)))\n",
    "    resultsV.append((NN-2,count,solve(count,NN-1)))\n",
    "    print(\"ROUTEs:%d\"%(fcnt))\n",
    "    print(\"--- %s msec ---\" % (t))"
   ]
  },
  {
   "cell_type": "code",
   "execution_count": 13,
   "metadata": {},
   "outputs": [
    {
     "data": {
      "text/plain": [
       "[(1, 5, 1.4142135623731),\n",
       " (2, 16, 1.6198059006387417),\n",
       " (3, 65, 1.906090350669923),\n",
       " (4, 326, 2.224740190162272),\n",
       " (5, 1957, 2.557324118662959),\n",
       " (6, 13700, 2.897021739443863)]"
      ]
     },
     "execution_count": 13,
     "metadata": {},
     "output_type": "execute_result"
    }
   ],
   "source": [
    "resultsV"
   ]
  },
  {
   "cell_type": "code",
   "execution_count": null,
   "metadata": {},
   "outputs": [],
   "source": []
  }
 ],
 "metadata": {
  "colab": {
   "name": "[2Q]AIProject1.ipynb",
   "provenance": [],
   "toc_visible": true
  },
  "kernelspec": {
   "display_name": "Python 3",
   "language": "python",
   "name": "python3"
  },
  "language_info": {
   "codemirror_mode": {
    "name": "ipython",
    "version": 3
   },
   "file_extension": ".py",
   "mimetype": "text/x-python",
   "name": "python",
   "nbconvert_exporter": "python",
   "pygments_lexer": "ipython3",
   "version": "3.7.4"
  }
 },
 "nbformat": 4,
 "nbformat_minor": 1
}
